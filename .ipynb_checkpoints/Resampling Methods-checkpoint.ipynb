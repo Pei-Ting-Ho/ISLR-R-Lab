{
 "cells": [
  {
   "cell_type": "code",
   "execution_count": 1,
   "id": "195de0b8",
   "metadata": {},
   "outputs": [],
   "source": [
    "library(ISLR)\n",
    "library(boot)"
   ]
  },
  {
   "cell_type": "code",
   "execution_count": 2,
   "id": "cfa3e4a8",
   "metadata": {},
   "outputs": [
    {
     "data": {
      "text/html": [
       "23.2660086465003"
      ],
      "text/latex": [
       "23.2660086465003"
      ],
      "text/markdown": [
       "23.2660086465003"
      ],
      "text/plain": [
       "[1] 23.26601"
      ]
     },
     "metadata": {},
     "output_type": "display_data"
    },
    {
     "data": {
      "text/html": [
       "18.7164594933828"
      ],
      "text/latex": [
       "18.7164594933828"
      ],
      "text/markdown": [
       "18.7164594933828"
      ],
      "text/plain": [
       "[1] 18.71646"
      ]
     },
     "metadata": {},
     "output_type": "display_data"
    },
    {
     "data": {
      "text/html": [
       "18.7940067973945"
      ],
      "text/latex": [
       "18.7940067973945"
      ],
      "text/markdown": [
       "18.7940067973945"
      ],
      "text/plain": [
       "[1] 18.79401"
      ]
     },
     "metadata": {},
     "output_type": "display_data"
    }
   ],
   "source": [
    "# Validation-Set \n",
    "## Split: Takes a sample of the specified size from the original data using either with or without replacement\n",
    "set.seed(1)\n",
    "train = sample(392, 196)\n",
    "## Fit: Runs a linear regression using only the training observations \n",
    "lr_model_1 = lm(mpg ~ horsepower, data = Auto, subset = train)\n",
    "lr_model_2 = lm(mpg ~ poly(horsepower, 2), data = Auto, subset = train)\n",
    "lr_model_3 = lm(mpg ~ poly(horsepower, 3), data = Auto, subset = train)\n",
    "## Validate: Calculates test error rate \n",
    "attach(Auto)\n",
    "mean((mpg - predict(lr_model_1, Auto))[-train] ^ 2)\n",
    "mean((mpg - predict(lr_model_2, Auto))[-train] ^ 2)\n",
    "mean((mpg - predict(lr_model_3, Auto))[-train] ^ 2)"
   ]
  },
  {
   "cell_type": "code",
   "execution_count": 3,
   "id": "fa2af0e1",
   "metadata": {},
   "outputs": [
    {
     "name": "stdout",
     "output_type": "stream",
     "text": [
      "[1] 24.23151 19.24821 19.33498 19.42443 19.03321\n"
     ]
    }
   ],
   "source": [
    "# Leave-One-Out Cross-Validation \n",
    "## The 1st component: The raw cross-validation estimate of prediction error\n",
    "## The 2nd component: The adjusted cross-validation estimate (Designed to compensate for the bias introduced by not using leave-one-out cross-validation)\n",
    "loocv_err = rep(0, 5)\n",
    "for (i in 1:5) {\n",
    "    glm_model = glm(mpg ~ poly(horsepower, i), data = Auto)\n",
    "    loocv_err[i] = cv.glm(Auto, glm_model)$delta[1]\n",
    "}\n",
    "print(loocv_err)"
   ]
  },
  {
   "cell_type": "code",
   "execution_count": 4,
   "id": "cb7494ab",
   "metadata": {},
   "outputs": [
    {
     "name": "stdout",
     "output_type": "stream",
     "text": [
      " [1] 24.26262 19.23666 19.46337 19.42564 18.95917 18.94794 18.85494 18.82247\n",
      " [9] 19.22451 19.10879\n"
     ]
    }
   ],
   "source": [
    "# K-Fold Cross-Validation\n",
    "kcv_err = rep(0, 10)\n",
    "for (i in 1:10) {\n",
    "    glm_model = glm(mpg ~ poly(horsepower, i), data = Auto)\n",
    "    kcv_err[i] = cv.glm(Auto, glm_model, K = 10)$delta[1]\n",
    "}\n",
    "print(kcv_err)"
   ]
  },
  {
   "cell_type": "code",
   "execution_count": 5,
   "id": "fa2d870f",
   "metadata": {},
   "outputs": [],
   "source": [
    "# Bootstrap\n",
    "# Use case 1: Estimate the accuracy of a statistic of interest\n",
    "# Use case 2: Estimate the accuracy of a linear regression model"
   ]
  },
  {
   "cell_type": "code",
   "execution_count": 6,
   "id": "f803657a",
   "metadata": {},
   "outputs": [
    {
     "data": {
      "text/plain": [
       "\n",
       "ORDINARY NONPARAMETRIC BOOTSTRAP\n",
       "\n",
       "\n",
       "Call:\n",
       "boot(data = Portfolio, statistic = alpha_fn, R = 1000)\n",
       "\n",
       "\n",
       "Bootstrap Statistics :\n",
       "     original        bias    std. error\n",
       "t1* 0.5758321 -0.0009324929  0.09189317"
      ]
     },
     "metadata": {},
     "output_type": "display_data"
    }
   ],
   "source": [
    "# Use case 1: Estimate the accuracy of a statistic of interest\n",
    "## Create an estimate function \n",
    "alpha_fn = function(data, index) {\n",
    "    X = data$X[index]\n",
    "    Y = data$Y[index]\n",
    "    return((var(Y) - cov(X, Y)) / (var(X) + var(Y) - 2 * cov(X, Y)))\n",
    "}\n",
    "## Perform a bootstrap process\n",
    "boot(Portfolio, alpha_fn, R = 1000)"
   ]
  },
  {
   "cell_type": "code",
   "execution_count": 7,
   "id": "f51121bf",
   "metadata": {},
   "outputs": [
    {
     "data": {
      "text/plain": [
       "\n",
       "ORDINARY NONPARAMETRIC BOOTSTRAP\n",
       "\n",
       "\n",
       "Call:\n",
       "boot(data = Auto, statistic = lr_fn, R = 1000)\n",
       "\n",
       "\n",
       "Bootstrap Statistics :\n",
       "      original        bias    std. error\n",
       "t1* 39.9358610  0.0429311736 0.835516284\n",
       "t2* -0.1578447 -0.0005363252 0.007242626"
      ]
     },
     "metadata": {},
     "output_type": "display_data"
    },
    {
     "data": {
      "text/html": [
       "<table class=\"dataframe\">\n",
       "<caption>A matrix: 2 × 4 of type dbl</caption>\n",
       "<thead>\n",
       "\t<tr><th></th><th scope=col>Estimate</th><th scope=col>Std. Error</th><th scope=col>t value</th><th scope=col>Pr(&gt;|t|)</th></tr>\n",
       "</thead>\n",
       "<tbody>\n",
       "\t<tr><th scope=row>(Intercept)</th><td>39.9358610</td><td>0.717498656</td><td> 55.65984</td><td>1.220362e-187</td></tr>\n",
       "\t<tr><th scope=row>horsepower</th><td>-0.1578447</td><td>0.006445501</td><td>-24.48914</td><td> 7.031989e-81</td></tr>\n",
       "</tbody>\n",
       "</table>\n"
      ],
      "text/latex": [
       "A matrix: 2 × 4 of type dbl\n",
       "\\begin{tabular}{r|llll}\n",
       "  & Estimate & Std. Error & t value & Pr(>\\textbar{}t\\textbar{})\\\\\n",
       "\\hline\n",
       "\t(Intercept) & 39.9358610 & 0.717498656 &  55.65984 & 1.220362e-187\\\\\n",
       "\thorsepower & -0.1578447 & 0.006445501 & -24.48914 &  7.031989e-81\\\\\n",
       "\\end{tabular}\n"
      ],
      "text/markdown": [
       "\n",
       "A matrix: 2 × 4 of type dbl\n",
       "\n",
       "| <!--/--> | Estimate | Std. Error | t value | Pr(&gt;|t|) |\n",
       "|---|---|---|---|---|\n",
       "| (Intercept) | 39.9358610 | 0.717498656 |  55.65984 | 1.220362e-187 |\n",
       "| horsepower | -0.1578447 | 0.006445501 | -24.48914 |  7.031989e-81 |\n",
       "\n"
      ],
      "text/plain": [
       "            Estimate   Std. Error  t value   Pr(>|t|)     \n",
       "(Intercept) 39.9358610 0.717498656  55.65984 1.220362e-187\n",
       "horsepower  -0.1578447 0.006445501 -24.48914  7.031989e-81"
      ]
     },
     "metadata": {},
     "output_type": "display_data"
    }
   ],
   "source": [
    "# Use case 2: Estimate the accuracy of a linear regression model\n",
    "## Create an estimate function \n",
    "lr_fn = function(data, index) {\n",
    "    lr_model = lm(mpg ~ horsepower, data = data, subset = index)\n",
    "    return(coef(lr_model))\n",
    "}\n",
    "## Perform a bootstrap process\n",
    "boot(Auto, lr_fn, R = 1000)                      # SE of coefficient estimates obtained from bootstrap (Do not rely on certain assumptions) \n",
    "summary(lm(mpg ~ horsepower, data = Auto))$coef  # SE of coefficient estimates obtained from formulas (Do rely on certain assumptions)"
   ]
  }
 ],
 "metadata": {
  "kernelspec": {
   "display_name": "R",
   "language": "R",
   "name": "ir"
  },
  "language_info": {
   "codemirror_mode": "r",
   "file_extension": ".r",
   "mimetype": "text/x-r-source",
   "name": "R",
   "pygments_lexer": "r",
   "version": "3.6.1"
  }
 },
 "nbformat": 4,
 "nbformat_minor": 5
}
