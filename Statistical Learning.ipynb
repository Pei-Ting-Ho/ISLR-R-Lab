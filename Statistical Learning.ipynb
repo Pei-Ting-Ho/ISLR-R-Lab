{
 "cells": [
  {
   "cell_type": "code",
   "execution_count": null,
   "id": "dc77d45b",
   "metadata": {},
   "outputs": [],
   "source": [
    "# Sequence \n",
    "seq(1, 10)\n",
    "1:10\n",
    "seq(0, 1, length = 10)"
   ]
  },
  {
   "cell_type": "code",
   "execution_count": null,
   "id": "93d1df3a",
   "metadata": {},
   "outputs": [],
   "source": [
    "# Vector (Concatenation)\n",
    "x = c(1, 6, 2)\n",
    "y = c(1, 4, 3)\n",
    "x + y"
   ]
  },
  {
   "cell_type": "code",
   "execution_count": null,
   "id": "801fc3d4",
   "metadata": {},
   "outputs": [],
   "source": [
    "# Help page: ?length\n",
    "length(x)\n",
    "length(y)"
   ]
  },
  {
   "cell_type": "code",
   "execution_count": null,
   "id": "e3af64c0",
   "metadata": {},
   "outputs": [],
   "source": [
    "# List of all R objects\n",
    "## View \n",
    "ls()\n",
    "## Remove\n",
    "rm(x, y)\n",
    "ls()"
   ]
  },
  {
   "cell_type": "code",
   "execution_count": null,
   "id": "3d42f045",
   "metadata": {},
   "outputs": [],
   "source": [
    "# Matrix: matrix(data = NA, nrow = 1, ncol = 1, byrow = FALSE, dimnames = NULL)\n",
    "## Column-wise\n",
    "matrix(data = c(1, 2, 3, 4), nrow = 2, ncol = 2)\n",
    "## Row-wise\n",
    "matrix(data = c(1, 2, 3, 4), nrow = 2, ncol = 2, byrow = TRUE)"
   ]
  },
  {
   "cell_type": "code",
   "execution_count": null,
   "id": "01c1161b",
   "metadata": {},
   "outputs": [],
   "source": [
    "# Operations\n",
    "x = matrix(data = c(1, 2, 3, 4), nrow = 2, ncol = 2)\n",
    "## Square root\n",
    "sqrt(x)\n",
    "## Power\n",
    "x ^ 2"
   ]
  },
  {
   "cell_type": "code",
   "execution_count": null,
   "id": "5aeffd80",
   "metadata": {},
   "outputs": [],
   "source": [
    "# Normal distribution: Density; Distribution function; Quantile function; Random generation \n",
    "## dnorm(x, mean = 0, sd = 1, ...)\n",
    "## pnorm(q, mean = 0, sd = 1, ...)\n",
    "## qnorm(p, mean = 0, sd = 1, ...)\n",
    "## rnorm(n, mean = 0, sd = 1)\n",
    "set.seed(100)\n",
    "x = rnorm(50)\n",
    "y = x + rnorm(50, mean = 50, sd = 0.1)\n",
    "cor(x, y)"
   ]
  },
  {
   "cell_type": "code",
   "execution_count": null,
   "id": "e3506c20",
   "metadata": {},
   "outputs": [],
   "source": [
    "# Statistics\n",
    "z = rnorm(100)\n",
    "mean(z)\n",
    "var(z)\n",
    "sqrt(var(z)) == sd(z)"
   ]
  },
  {
   "cell_type": "code",
   "execution_count": null,
   "id": "a5e143a9",
   "metadata": {},
   "outputs": [],
   "source": [
    "# Graphics\n",
    "x = rnorm(100)\n",
    "y = rnorm(100)\n",
    "## Show the plot\n",
    "plot(x, y, xlab = \"X-axis Label\", ylab = \"Y-axis Label\", main = \"Y ~ X\")\n",
    "## Save the plot\n",
    "pdf('Figure.pdf')\n",
    "plot(x, y, xlab = \"X-axis Label\", ylab = \"Y-axis Label\", main = \"Y ~ X\")\n",
    "dev.off()"
   ]
  },
  {
   "cell_type": "code",
   "execution_count": null,
   "id": "8ef4dde8",
   "metadata": {},
   "outputs": [],
   "source": [
    "# Contour (contour()): Produces a contour plot in order to represent 3-dimensional data\n",
    "# Heatmap (image()): Produces a color-coded plot whose colors depend on the z value\n",
    "# Perspective (persp()): Produces a perspective plot of a surface over the x–y plane"
   ]
  },
  {
   "cell_type": "code",
   "execution_count": null,
   "id": "c8cfd382",
   "metadata": {},
   "outputs": [],
   "source": [
    "# Index\n",
    "a = matrix(1:16, 4, 4)\n",
    "a\n",
    "## Dimensions: Number of rows, Number of cols \n",
    "dim(a)\n",
    "## Select 2nd row, 3rd col element\n",
    "a[2, 3]\n",
    "## Select 1st - 3rd rows, 2nd - 4th cols elements \n",
    "a[1:3, 2:4]\n",
    "## Select all 1st - 2nd rows\n",
    "a[1:2, ]\n",
    "## Select all 1st - 2nd cols \n",
    "a[, 1:2]\n",
    "## Select all rows or columns except those indicated in the minus index\n",
    "a[-c(1, 3), ]"
   ]
  },
  {
   "cell_type": "code",
   "execution_count": null,
   "id": "5d3af698",
   "metadata": {},
   "outputs": [],
   "source": [
    "# Load data \n",
    "## Text file: read.table(\"Auto.data\", ...)\n",
    "## CSV file: read.csv(\"Auto.csv\", ...)\n",
    "Auto = read.csv(\"Auto.csv\", header = T, na.strings = \"?\")\n",
    "dim(Auto)\n",
    "names(Auto)"
   ]
  },
  {
   "cell_type": "code",
   "execution_count": null,
   "id": "1e67904e",
   "metadata": {
    "scrolled": false
   },
   "outputs": [],
   "source": [
    "# Numerical summary\n",
    "summary(Auto)"
   ]
  },
  {
   "cell_type": "code",
   "execution_count": null,
   "id": "0a4b34fc",
   "metadata": {},
   "outputs": [],
   "source": [
    "# Graphical summary\n",
    "attach(Auto)\n",
    "## Scatterplot: Quantitative variable ~ Quantitative variable \n",
    "plot(cylinders, mpg)\n",
    "## Boxplot: Quantitative variable ~ Qualitative variable \n",
    "cylinders = as.factor(cylinders)\n",
    "plot(cylinders, mpg, col = \"red\", varwidth = T, xlab = \"Cylinders\", ylab = \"MPG\")\n",
    "## Histogram: Frequency ~ Quantitative variable\n",
    "hist(mpg, col = 'red', breaks = 15)\n",
    "## Scatterplot matrix\n",
    "pairs(Auto)\n",
    "## Interactive plot\n",
    "plot(horsepower, mpg)\n",
    "identify(horsepower, mpg, name)"
   ]
  }
 ],
 "metadata": {
  "kernelspec": {
   "display_name": "R",
   "language": "R",
   "name": "ir"
  },
  "language_info": {
   "codemirror_mode": "r",
   "file_extension": ".r",
   "mimetype": "text/x-r-source",
   "name": "R",
   "pygments_lexer": "r",
   "version": "3.6.1"
  }
 },
 "nbformat": 4,
 "nbformat_minor": 5
}
